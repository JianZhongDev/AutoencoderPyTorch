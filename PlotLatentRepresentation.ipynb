{
 "cells": [
  {
   "cell_type": "code",
   "execution_count": null,
   "id": "71831c36-a8e2-4710-abb4-9c8fe9ffc619",
   "metadata": {},
   "outputs": [],
   "source": [
    "## import modules\n",
    "import os\n",
    "import importlib \n",
    "import numpy as np \n",
    "\n",
    "import matplotlib\n",
    "import matplotlib.pyplot as plt\n",
    "\n",
    "import time\n",
    "\n",
    "import torch\n",
    "import torchvision\n",
    "from torchvision.transforms import v2"
   ]
  },
  {
   "cell_type": "code",
   "execution_count": null,
   "id": "5215bcb0-776a-4b35-8f05-291edcc252b9",
   "metadata": {},
   "outputs": [],
   "source": [
    "from Modules.Data import Transforms"
   ]
  },
  {
   "cell_type": "code",
   "execution_count": null,
   "id": "e690c988-a6a6-4f49-8864-37d755ca74f2",
   "metadata": {},
   "outputs": [],
   "source": [
    "## define transforms for supervised learning raw data \n",
    "train_rawdata_transform = v2.Compose([\n",
    "    v2.ToImage(),\n",
    "    v2.ToDtype(torch.float32,scale = True),\n",
    "    Transforms.Reshape((-1,)),\n",
    "])\n",
    "validate_rawdata_transform = v2.Compose([\n",
    "    v2.ToImage(),\n",
    "    v2.ToDtype(torch.float32,scale = True),\n",
    "    Transforms.Reshape((-1,)),\n",
    "])"
   ]
  },
  {
   "cell_type": "code",
   "execution_count": null,
   "id": "b222e2d4-bbec-498e-98b2-8a96df0b5813",
   "metadata": {},
   "outputs": [],
   "source": [
    "## load supervised learning raw data set\n",
    "\n",
    "# src_dataset_file_path may need to change according to your computer file path\n",
    "src_dataset_file_path = r\"E:\\Python\\DataSet\\TorchDataSet\\MNIST\" \n",
    "\n",
    "train_rawdata = torchvision.datasets.MNIST(\n",
    "    root = src_dataset_file_path,\n",
    "    train = True,\n",
    "    download = True,\n",
    "    transform = train_rawdata_transform,\n",
    ")\n",
    "\n",
    "validate_rawdata = torchvision.datasets.MNIST(\n",
    "    root = src_dataset_file_path,\n",
    "    train = False,\n",
    "    download = True,\n",
    "    transform = validate_rawdata_transform,\n",
    ")\n",
    "\n",
    "rawdata_size = validate_rawdata[0][0].size()\n",
    "print(f\"raw_data size: {rawdata_size}\")"
   ]
  },
  {
   "cell_type": "code",
   "execution_count": null,
   "id": "64f67d75-1dae-4c4f-af5d-ad07145a9dad",
   "metadata": {},
   "outputs": [],
   "source": [
    "# create data loader\n",
    "\n",
    "train_batch_size = 512\n",
    "validate_batch_size = 512\n",
    "\n",
    "train_rawdataloader = torch.utils.data.DataLoader(train_rawdata, \n",
    "                                               batch_size = train_batch_size, \n",
    "                                               shuffle = False)\n",
    "\n",
    "validate_rawdataloader = torch.utils.data.DataLoader(validate_rawdata, \n",
    "                                                   batch_size = validate_batch_size, \n",
    "                                                   shuffle = False)"
   ]
  },
  {
   "cell_type": "code",
   "execution_count": null,
   "id": "082ff8b8-52b6-4e87-afcf-b9096660c99a",
   "metadata": {},
   "outputs": [],
   "source": [
    "## load model\n",
    "\n",
    "# encoder_file_path = r\".\\Results\\encoder_model_2024-06-19-20-32-01.pt\"\n",
    "# encoder_file_path = r\".\\Results\\encoder_model_2024-06-19-21-19-41.pt\"\n",
    "encoder_file_path = r\".\\Results\\encoder_model_2024-06-19-23-13-42.pt\"\n",
    "\n",
    "encoder = torch.load(encoder_file_path)\n",
    "\n",
    "print(\"Encoder:\")\n",
    "print(encoder)"
   ]
  },
  {
   "cell_type": "code",
   "execution_count": null,
   "id": "70ac5678-d8b4-49ab-a2b0-4818332bfc53",
   "metadata": {},
   "outputs": [],
   "source": [
    "## extract code \n",
    "\n",
    "check_rawdataloader = validate_rawdataloader\n",
    "\n",
    "encoder = encoder.to(\"cpu\")\n",
    "\n",
    "check_codes = []\n",
    "check_labels = []\n",
    "\n",
    "encoder.eval()\n",
    "with torch.no_grad():\n",
    "    for i_batch, data in enumerate(check_rawdataloader):\n",
    "        inputs, labels = data    \n",
    "        \n",
    "        cur_codes = encoder(inputs)\n",
    "\n",
    "        check_codes.append(cur_codes)\n",
    "        check_labels.append(labels)\n",
    "\n",
    "check_codes = torch.concat(check_codes, dim = 0)\n",
    "check_labels = torch.concat(check_labels, dim = 0)\n",
    "\n",
    "print(check_codes.size())\n",
    "print(check_labels.size())"
   ]
  },
  {
   "cell_type": "code",
   "execution_count": null,
   "id": "9a535640-1b1f-4814-849c-f3c4ad8a4cd6",
   "metadata": {},
   "outputs": [],
   "source": [
    "## plot feature vs code\n",
    "\n",
    "plot_x_code_idx = 0\n",
    "plot_y_code_idx = 1\n",
    "\n",
    "plot_labels = torch.unique(check_labels)\n",
    "\n",
    "print(plot_labels)\n",
    "\n",
    "plt.figure(figsize = (16,16))\n",
    "for cur_label in plot_labels:\n",
    "    cur_plot_xs = check_codes[check_labels == cur_label, plot_x_code_idx]\n",
    "    cur_plot_ys = check_codes[check_labels == cur_label, plot_y_code_idx]\n",
    "    plt.scatter(cur_plot_xs, cur_plot_ys, label = f\"{cur_label}\")\n",
    "plt.legend()\n",
    "plt.show()"
   ]
  },
  {
   "cell_type": "code",
   "execution_count": null,
   "id": "dec80eee-86b2-4b99-b3bd-328be876b6bf",
   "metadata": {},
   "outputs": [],
   "source": []
  }
 ],
 "metadata": {
  "kernelspec": {
   "display_name": "Python 3 (ipykernel)",
   "language": "python",
   "name": "python3"
  },
  "language_info": {
   "codemirror_mode": {
    "name": "ipython",
    "version": 3
   },
   "file_extension": ".py",
   "mimetype": "text/x-python",
   "name": "python",
   "nbconvert_exporter": "python",
   "pygments_lexer": "ipython3",
   "version": "3.10.13"
  }
 },
 "nbformat": 4,
 "nbformat_minor": 5
}
